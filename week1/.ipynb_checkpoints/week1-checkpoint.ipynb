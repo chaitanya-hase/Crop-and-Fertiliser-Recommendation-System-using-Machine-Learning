{
 "cells": [
  {
   "cell_type": "code",
   "execution_count": 1,
   "id": "597c06da-1ef9-4e2f-ad13-196c384c0293",
   "metadata": {},
   "outputs": [],
   "source": [
    "import pandas as pd \n",
    "import numpy as np"
   ]
  },
  {
   "cell_type": "code",
   "execution_count": 11,
   "id": "7f539a0c-ad83-4629-942c-86affd4fb1d8",
   "metadata": {},
   "outputs": [],
   "source": [
    "crop_df = pd.read_csv(\"C:/Users/hasec/OneDrive/Desktop/Crop and Fertiliser Recommendation System using Machine Learning/crop.csv\") "
   ]
  },
  {
   "cell_type": "code",
   "execution_count": 13,
   "id": "1bb322d3-4c8c-48cd-807c-8bec9b922884",
   "metadata": {},
   "outputs": [],
   "source": [
    "fertilizer_df = pd.read_csv('C:/Users/hasec/OneDrive/Desktop/Crop and Fertiliser Recommendation System using Machine Learning/fertilizer.csv') "
   ]
  },
  {
   "cell_type": "code",
   "execution_count": 46,
   "id": "b3d31655-5106-4d51-b748-7ec26b39a5a9",
   "metadata": {},
   "outputs": [],
   "source": [
    "## crop"
   ]
  },
  {
   "cell_type": "code",
   "execution_count": 15,
   "id": "852af388-c0a5-4224-bb8f-85a6078c4382",
   "metadata": {},
   "outputs": [
    {
     "name": "stdout",
     "output_type": "stream",
     "text": [
      "Shape of dataset: (2200, 8)\n"
     ]
    }
   ],
   "source": [
    "print(\"Shape of dataset:\", crop_df.shape)"
   ]
  },
  {
   "cell_type": "code",
   "execution_count": 17,
   "id": "3dec0a81-fe44-4813-bcc8-ac72a429d5d9",
   "metadata": {},
   "outputs": [
    {
     "name": "stdout",
     "output_type": "stream",
     "text": [
      "\n",
      "First 5 rows:\n",
      "     N   P   K  temperature   humidity        ph    rainfall label\n",
      "0  90  42  43    20.879744  82.002744  6.502985  202.935536  rice\n",
      "1  85  58  41    21.770462  80.319644  7.038096  226.655537  rice\n",
      "2  60  55  44    23.004459  82.320763  7.840207  263.964248  rice\n",
      "3  74  35  40    26.491096  80.158363  6.980401  242.864034  rice\n",
      "4  78  42  42    20.130175  81.604873  7.628473  262.717340  rice\n"
     ]
    }
   ],
   "source": [
    "print(\"\\nFirst 5 rows:\\n\", crop_df.head())"
   ]
  },
  {
   "cell_type": "code",
   "execution_count": 19,
   "id": "4be1c5d6-dd9a-4baa-9939-52648cf34480",
   "metadata": {},
   "outputs": [
    {
     "name": "stdout",
     "output_type": "stream",
     "text": [
      "\n",
      "Last 5 rows:\n",
      "         N   P   K  temperature   humidity        ph    rainfall   label\n",
      "2195  107  34  32    26.774637  66.413269  6.780064  177.774507  coffee\n",
      "2196   99  15  27    27.417112  56.636362  6.086922  127.924610  coffee\n",
      "2197  118  33  30    24.131797  67.225123  6.362608  173.322839  coffee\n",
      "2198  117  32  34    26.272418  52.127394  6.758793  127.175293  coffee\n",
      "2199  104  18  30    23.603016  60.396475  6.779833  140.937041  coffee\n"
     ]
    }
   ],
   "source": [
    "print(\"\\nLast 5 rows:\\n\", crop_df.tail())"
   ]
  },
  {
   "cell_type": "code",
   "execution_count": 21,
   "id": "6a9aabda-550b-4812-b5b1-c11e0fb8b33a",
   "metadata": {},
   "outputs": [
    {
     "name": "stdout",
     "output_type": "stream",
     "text": [
      "\n",
      "Summary statistics:\n",
      "                  N            P            K  temperature     humidity  \\\n",
      "count  2200.000000  2200.000000  2200.000000  2200.000000  2200.000000   \n",
      "mean     50.551818    53.362727    48.149091    25.616244    71.481779   \n",
      "std      36.917334    32.985883    50.647931     5.063749    22.263812   \n",
      "min       0.000000     5.000000     5.000000     8.825675    14.258040   \n",
      "25%      21.000000    28.000000    20.000000    22.769375    60.261953   \n",
      "50%      37.000000    51.000000    32.000000    25.598693    80.473146   \n",
      "75%      84.250000    68.000000    49.000000    28.561654    89.948771   \n",
      "max     140.000000   145.000000   205.000000    43.675493    99.981876   \n",
      "\n",
      "                ph     rainfall  \n",
      "count  2200.000000  2200.000000  \n",
      "mean      6.469480   103.463655  \n",
      "std       0.773938    54.958389  \n",
      "min       3.504752    20.211267  \n",
      "25%       5.971693    64.551686  \n",
      "50%       6.425045    94.867624  \n",
      "75%       6.923643   124.267508  \n",
      "max       9.935091   298.560117  \n"
     ]
    }
   ],
   "source": [
    "print(\"\\nSummary statistics:\\n\", crop_df.describe())"
   ]
  },
  {
   "cell_type": "code",
   "execution_count": 23,
   "id": "93dc2a39-10ac-4911-b1d2-62f8a79793ed",
   "metadata": {},
   "outputs": [
    {
     "name": "stdout",
     "output_type": "stream",
     "text": [
      "\n",
      "Data types:\n",
      " N                int64\n",
      "P                int64\n",
      "K                int64\n",
      "temperature    float64\n",
      "humidity       float64\n",
      "ph             float64\n",
      "rainfall       float64\n",
      "label           object\n",
      "dtype: object\n"
     ]
    }
   ],
   "source": [
    "print(\"\\nData types:\\n\", crop_df.dtypes)"
   ]
  },
  {
   "cell_type": "code",
   "execution_count": 25,
   "id": "06099a81-8042-49ac-b452-042eb9294682",
   "metadata": {},
   "outputs": [
    {
     "name": "stdout",
     "output_type": "stream",
     "text": [
      "\n",
      "Unique crops:\n",
      " ['rice' 'maize' 'chickpea' 'kidneybeans' 'pigeonpeas' 'mothbeans'\n",
      " 'mungbean' 'blackgram' 'lentil' 'pomegranate' 'banana' 'mango' 'grapes'\n",
      " 'watermelon' 'muskmelon' 'apple' 'orange' 'papaya' 'coconut' 'cotton'\n",
      " 'jute' 'coffee']\n"
     ]
    }
   ],
   "source": [
    "print(\"\\nUnique crops:\\n\", crop_df['label'].unique())"
   ]
  },
  {
   "cell_type": "code",
   "execution_count": null,
   "id": "9b282882-f547-4cac-984e-19a839f0c5f1",
   "metadata": {},
   "outputs": [],
   "source": [
    "## fertilizer "
   ]
  },
  {
   "cell_type": "code",
   "execution_count": 28,
   "id": "4955b78f-c1e0-45b7-b307-e84f1b137395",
   "metadata": {},
   "outputs": [
    {
     "name": "stdout",
     "output_type": "stream",
     "text": [
      "Shape of dataset: (99, 9)\n"
     ]
    }
   ],
   "source": [
    "print(\"Shape of dataset:\", fertilizer_df.shape)"
   ]
  },
  {
   "cell_type": "code",
   "execution_count": 30,
   "id": "1fb2d183-4d9d-48e4-b0d6-5c255c75b0ab",
   "metadata": {},
   "outputs": [
    {
     "name": "stdout",
     "output_type": "stream",
     "text": [
      "\n",
      "First 5 rows:\n",
      "    Temparature  Humidity   Moisture Soil Type  Crop Type  Nitrogen  Potassium  \\\n",
      "0           26         52        38     Sandy      Maize        37          0   \n",
      "1           29         52        45     Loamy  Sugarcane        12          0   \n",
      "2           34         65        62     Black     Cotton         7          9   \n",
      "3           32         62        34       Red    Tobacco        22          0   \n",
      "4           28         54        46    Clayey      Paddy        35          0   \n",
      "\n",
      "   Phosphorous Fertilizer Name  \n",
      "0            0            Urea  \n",
      "1           36             DAP  \n",
      "2           30        14-35-14  \n",
      "3           20           28-28  \n",
      "4            0            Urea  \n"
     ]
    }
   ],
   "source": [
    "print(\"\\nFirst 5 rows:\\n\", fertilizer_df.head())"
   ]
  },
  {
   "cell_type": "code",
   "execution_count": 32,
   "id": "67043c28-c625-4ef2-a12c-53a09d0ab26e",
   "metadata": {},
   "outputs": [
    {
     "name": "stdout",
     "output_type": "stream",
     "text": [
      "\n",
      "Last 5 rows:\n",
      "     Temparature  Humidity   Moisture Soil Type  Crop Type  Nitrogen  \\\n",
      "94           25         50        32    Clayey     Pulses        24   \n",
      "95           30         60        27       Red    Tobacco         4   \n",
      "96           38         72        51     Loamy      Wheat        39   \n",
      "97           36         60        43     Sandy    Millets        15   \n",
      "98           29         58        57     Black  Sugarcane        12   \n",
      "\n",
      "    Potassium  Phosphorous Fertilizer Name  \n",
      "94          0           19           28-28  \n",
      "95         17           17        10-26-26  \n",
      "96          0            0            Urea  \n",
      "97          0           41             DAP  \n",
      "98          0           10           20-20  \n"
     ]
    }
   ],
   "source": [
    "print(\"\\nLast 5 rows:\\n\", fertilizer_df.tail())"
   ]
  },
  {
   "cell_type": "code",
   "execution_count": 34,
   "id": "9f6b7c3b-074f-42ef-89a8-6ca86415d4d4",
   "metadata": {},
   "outputs": [
    {
     "name": "stdout",
     "output_type": "stream",
     "text": [
      "\n",
      "Null values in each column:\n",
      " Temparature        0\n",
      "Humidity           0\n",
      "Moisture           0\n",
      "Soil Type          0\n",
      "Crop Type          0\n",
      "Nitrogen           0\n",
      "Potassium          0\n",
      "Phosphorous        0\n",
      "Fertilizer Name    0\n",
      "dtype: int64\n"
     ]
    }
   ],
   "source": [
    "print(\"\\nNull values in each column:\\n\", fertilizer_df.isnull().sum())"
   ]
  },
  {
   "cell_type": "code",
   "execution_count": 36,
   "id": "e987be88-635b-4302-8464-44c01fb329d0",
   "metadata": {},
   "outputs": [
    {
     "name": "stdout",
     "output_type": "stream",
     "text": [
      "\n",
      "Summary statistics:\n",
      "        Temparature  Humidity    Moisture   Nitrogen  Potassium  Phosphorous\n",
      "count    99.000000  99.000000  99.000000  99.000000  99.000000    99.000000\n",
      "mean     30.282828  59.151515  43.181818  18.909091   3.383838    18.606061\n",
      "std       3.502304   5.840331  11.271568  11.599693   5.814667    13.476978\n",
      "min      25.000000  50.000000  25.000000   4.000000   0.000000     0.000000\n",
      "25%      28.000000  54.000000  34.000000  10.000000   0.000000     9.000000\n",
      "50%      30.000000  60.000000  41.000000  13.000000   0.000000    19.000000\n",
      "75%      33.000000  64.000000  50.500000  24.000000   7.500000    30.000000\n",
      "max      38.000000  72.000000  65.000000  42.000000  19.000000    42.000000\n"
     ]
    }
   ],
   "source": [
    "print(\"\\nSummary statistics:\\n\", fertilizer_df.describe())"
   ]
  },
  {
   "cell_type": "code",
   "execution_count": 38,
   "id": "66e01191-6261-4990-b00d-aaa354239155",
   "metadata": {},
   "outputs": [
    {
     "name": "stdout",
     "output_type": "stream",
     "text": [
      "\n",
      "Data types:\n",
      " Temparature         int64\n",
      "Humidity            int64\n",
      "Moisture            int64\n",
      "Soil Type          object\n",
      "Crop Type          object\n",
      "Nitrogen            int64\n",
      "Potassium           int64\n",
      "Phosphorous         int64\n",
      "Fertilizer Name    object\n",
      "dtype: object\n"
     ]
    }
   ],
   "source": [
    "print(\"\\nData types:\\n\", fertilizer_df.dtypes)"
   ]
  },
  {
   "cell_type": "code",
   "execution_count": 40,
   "id": "5a0570e2-a3c9-40ac-9ad0-56ce43173e9f",
   "metadata": {},
   "outputs": [
    {
     "name": "stdout",
     "output_type": "stream",
     "text": [
      "\n",
      "Unique Crop Types:\n",
      " ['Maize' 'Sugarcane' 'Cotton' 'Tobacco' 'Paddy' 'Barley' 'Wheat' 'Millets'\n",
      " 'Oil seeds' 'Pulses' 'Ground Nuts']\n"
     ]
    }
   ],
   "source": [
    "print(\"\\nUnique Crop Types:\\n\", fertilizer_df['Crop Type'].unique())"
   ]
  },
  {
   "cell_type": "code",
   "execution_count": 42,
   "id": "6e30c5b3-3273-446d-81b8-8d9551a9b4de",
   "metadata": {},
   "outputs": [
    {
     "name": "stdout",
     "output_type": "stream",
     "text": [
      "\n",
      "Unique Soil Types:\n",
      " ['Sandy' 'Loamy' 'Black' 'Red' 'Clayey']\n"
     ]
    }
   ],
   "source": [
    "print(\"\\nUnique Soil Types:\\n\", fertilizer_df['Soil Type'].unique())"
   ]
  },
  {
   "cell_type": "code",
   "execution_count": 44,
   "id": "cd458622-1985-4e59-9168-6461f9775ea0",
   "metadata": {},
   "outputs": [
    {
     "name": "stdout",
     "output_type": "stream",
     "text": [
      "\n",
      "Unique Fertilizers:\n",
      " ['Urea' 'DAP' '14-35-14' '28-28' '17-17-17' '20-20' '10-26-26']\n"
     ]
    }
   ],
   "source": [
    "print(\"\\nUnique Fertilizers:\\n\", fertilizer_df['Fertilizer Name'].unique())"
   ]
  },
  {
   "cell_type": "code",
   "execution_count": null,
   "id": "9e0e8d02-010d-43f9-a6cd-90b9fd1d7efe",
   "metadata": {},
   "outputs": [],
   "source": []
  }
 ],
 "metadata": {
  "kernelspec": {
   "display_name": "Python 3 (ipykernel)",
   "language": "python",
   "name": "python3"
  },
  "language_info": {
   "codemirror_mode": {
    "name": "ipython",
    "version": 3
   },
   "file_extension": ".py",
   "mimetype": "text/x-python",
   "name": "python",
   "nbconvert_exporter": "python",
   "pygments_lexer": "ipython3",
   "version": "3.12.4"
  }
 },
 "nbformat": 4,
 "nbformat_minor": 5
}
